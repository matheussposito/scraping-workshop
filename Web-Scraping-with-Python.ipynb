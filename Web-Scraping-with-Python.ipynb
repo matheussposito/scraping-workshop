{
 "cells": [
  {
   "cell_type": "markdown",
   "id": "6cc07739",
   "metadata": {},
   "source": [
    "# Web Scraping com Python"
   ]
  },
  {
   "cell_type": "markdown",
   "id": "cb70df44",
   "metadata": {},
   "source": [
    "## Entendo estrutura de uma página na web (html)"
   ]
  },
  {
   "cell_type": "markdown",
   "id": "bcae0079",
   "metadata": {},
   "source": [
    "- Páginas da internet são arquivos `.html`\n",
    "- O conteúdo das páginas são separadas por blocos (tags)\n",
    "- Dentro de cada bloco é que se encontram as informações de interesse"
   ]
  },
  {
   "cell_type": "markdown",
   "id": "04a3f9ff",
   "metadata": {},
   "source": [
    "Tags mais comuns:\n",
    "- `<h1>`\n",
    "- `<h2>`\n",
    "- `<h3>`\n",
    "- `<p>`\n",
    "- `<div>`\n",
    "- `<a>`\n",
    "- `<table>`\n",
    "    - `<tr>`\n",
    "    - `<th>`\n",
    "    - `<td>`"
   ]
  },
  {
   "cell_type": "markdown",
   "id": "62790947",
   "metadata": {
    "heading_collapsed": true
   },
   "source": [
    "## Scraping simples"
   ]
  },
  {
   "cell_type": "code",
   "execution_count": 4,
   "id": "52dd4e7b",
   "metadata": {
    "hidden": true
   },
   "outputs": [],
   "source": [
    "from bs4 import BeautifulSoup"
   ]
  },
  {
   "cell_type": "code",
   "execution_count": 5,
   "id": "9afc98bf",
   "metadata": {
    "hidden": true
   },
   "outputs": [],
   "source": [
    "soup = BeautifulSoup(open('scraping.html'), 'html.parser')"
   ]
  },
  {
   "cell_type": "code",
   "execution_count": 6,
   "id": "302f7f96",
   "metadata": {
    "collapsed": true,
    "hidden": true
   },
   "outputs": [
    {
     "data": {
      "text/plain": [
       "<!-- This html block marks the beginning of my html file-->\n",
       "<html>\n",
       "<!-- The head block may contain some configuration and or information about my web page-->\n",
       "<head>\n",
       "<!-- The style tag let us change how our page looks like-->\n",
       "<style>\n",
       "    h1 {text-align: center;}\n",
       "\n",
       "    h2 {text-align: center;}\n",
       "\n",
       "    h3 {text-align: center;}\n",
       "\n",
       "    p {text-align: center;}\n",
       "\n",
       "    div {text-align: center; font-size:x-large;}\n",
       "\n",
       "    table {margin-left:auto; margin-right:auto; width:50%}\n",
       "\n",
       "    .my_table, td, tr {border: 1px solid rgba(236, 0, 0, 0.74);}\n",
       "  </style>\n",
       "<!-- The title changes the title of the page. The title appear on the tab-->\n",
       "<title> Simple Scraping Page</title>\n",
       "</head>\n",
       "<!--On the body block is the main content-->\n",
       "<body>\n",
       "<!-- The img tag allows the insertion of local images-->\n",
       "<img alt=\"Le Wagon Logo\" height=\"60\" src=\"lewagon.png\" width=\"60\"/>\n",
       "<!-- The h1 is a header 1 tag-->\n",
       "<h1>This is a simple scraping page!</h1>\n",
       "<!-- The h2 is a second header tag-->\n",
       "<h2>Welcome to this workshop</h2>\n",
       "<h3>Web Scraping with Python 🐍</h3>\n",
       "<br/>\n",
       "<!-- The p is a paragraph tag-->\n",
       "<p>Ok, look at this. This is a whole lot of text. Imagine that right here is a\n",
       "    whole paragraph of some useful information. Inside here we might have some\n",
       "    numbers like 2022 and plain text. The size and amount of lines here will be\n",
       "    adjusted according to the settings of our web browser. Since I want this\n",
       "    to be a big chunk of text I'm gonna copy this same paragraph once more.\n",
       "  </p>\n",
       "<p>\n",
       "    Ok, look at this. This is a whole lot of text. Imagine that right here is a\n",
       "    whole paragraph of some useful information. Inside here we might have some\n",
       "    numbers like 2022 and plain text. The size and amount of lines here will be\n",
       "    adjusted according to the settings of our web browser. Since I want this\n",
       "    to be a big chunk of text I'm gonna copy this same paragraph once more.\n",
       "  </p>\n",
       "<br/>\n",
       "<!-- The div is a division or a section-->\n",
       "<div>Now look at this table:\n",
       "\n",
       "    <!-- The table tag allows the creation of tables. tr is for table row, th for\n",
       "    table heading and td for table data-->\n",
       "<table class=\"my_table\">\n",
       "<tr>\n",
       "<th>Student Name</th>\n",
       "<th>Age</th>\n",
       "<th>Course</th>\n",
       "</tr>\n",
       "<tr>\n",
       "<td style=\"text-align:center\">John</td>\n",
       "<td style=\"text-align:center\">66</td>\n",
       "<td style=\"text-align:center\">Data Science</td>\n",
       "</tr>\n",
       "<tr>\n",
       "<td style=\"text-align:center\">Josh</td>\n",
       "<td style=\"text-align:center\">22</td>\n",
       "<td style=\"text-align:center\">Web Dev</td>\n",
       "</tr>\n",
       "<tr>\n",
       "<td style=\"text-align:center\">Mary</td>\n",
       "<td style=\"text-align:center\">32</td>\n",
       "<td style=\"text-align:center\">Data Science</td>\n",
       "</tr>\n",
       "<tr>\n",
       "<td style=\"text-align:center\">Rachel</td>\n",
       "<td style=\"text-align:center\">41</td>\n",
       "<td style=\"text-align:center\">Data Science</td>\n",
       "</tr>\n",
       "<tr>\n",
       "<td style=\"text-align:center\">Stella</td>\n",
       "<td style=\"text-align:center\">57</td>\n",
       "<td style=\"text-align:center\">Web Dev</td>\n",
       "</tr>\n",
       "</table>\n",
       "</div>\n",
       "</body>\n",
       "<br/>\n",
       "<!-- the a tag allows insertion of hyperlinks-->\n",
       "<a href=\"https://www.lewagon.com/\" style=\"float: right;\"> Visit Le Wagon Website</a>\n",
       "</html>"
      ]
     },
     "execution_count": 6,
     "metadata": {},
     "output_type": "execute_result"
    }
   ],
   "source": [
    "soup"
   ]
  },
  {
   "cell_type": "code",
   "execution_count": 10,
   "id": "bc0727fb",
   "metadata": {
    "hidden": true
   },
   "outputs": [
    {
     "data": {
      "text/plain": [
       "<div>Now look at this table:\n",
       "\n",
       "    <!-- The table tag allows the creation of tables. tr is for table row, th for\n",
       "    table heading and td for table data-->\n",
       "<table class=\"my_table\">\n",
       "<tr>\n",
       "<th>Student Name</th>\n",
       "<th>Age</th>\n",
       "<th>Course</th>\n",
       "</tr>\n",
       "<tr>\n",
       "<td style=\"text-align:center\">John</td>\n",
       "<td style=\"text-align:center\">66</td>\n",
       "<td style=\"text-align:center\">Data Science</td>\n",
       "</tr>\n",
       "<tr>\n",
       "<td style=\"text-align:center\">Josh</td>\n",
       "<td style=\"text-align:center\">22</td>\n",
       "<td style=\"text-align:center\">Web Dev</td>\n",
       "</tr>\n",
       "<tr>\n",
       "<td style=\"text-align:center\">Mary</td>\n",
       "<td style=\"text-align:center\">32</td>\n",
       "<td style=\"text-align:center\">Data Science</td>\n",
       "</tr>\n",
       "<tr>\n",
       "<td style=\"text-align:center\">Rachel</td>\n",
       "<td style=\"text-align:center\">41</td>\n",
       "<td style=\"text-align:center\">Data Science</td>\n",
       "</tr>\n",
       "<tr>\n",
       "<td style=\"text-align:center\">Stella</td>\n",
       "<td style=\"text-align:center\">57</td>\n",
       "<td style=\"text-align:center\">Web Dev</td>\n",
       "</tr>\n",
       "</table>\n",
       "</div>"
      ]
     },
     "execution_count": 10,
     "metadata": {},
     "output_type": "execute_result"
    }
   ],
   "source": [
    "soup.find('div')"
   ]
  },
  {
   "cell_type": "code",
   "execution_count": 12,
   "id": "8d19fb40",
   "metadata": {
    "hidden": true
   },
   "outputs": [
    {
     "data": {
      "text/plain": [
       "<table class=\"my_table\">\n",
       "<tr>\n",
       "<th>Student Name</th>\n",
       "<th>Age</th>\n",
       "<th>Course</th>\n",
       "</tr>\n",
       "<tr>\n",
       "<td style=\"text-align:center\">John</td>\n",
       "<td style=\"text-align:center\">66</td>\n",
       "<td style=\"text-align:center\">Data Science</td>\n",
       "</tr>\n",
       "<tr>\n",
       "<td style=\"text-align:center\">Josh</td>\n",
       "<td style=\"text-align:center\">22</td>\n",
       "<td style=\"text-align:center\">Web Dev</td>\n",
       "</tr>\n",
       "<tr>\n",
       "<td style=\"text-align:center\">Mary</td>\n",
       "<td style=\"text-align:center\">32</td>\n",
       "<td style=\"text-align:center\">Data Science</td>\n",
       "</tr>\n",
       "<tr>\n",
       "<td style=\"text-align:center\">Rachel</td>\n",
       "<td style=\"text-align:center\">41</td>\n",
       "<td style=\"text-align:center\">Data Science</td>\n",
       "</tr>\n",
       "<tr>\n",
       "<td style=\"text-align:center\">Stella</td>\n",
       "<td style=\"text-align:center\">57</td>\n",
       "<td style=\"text-align:center\">Web Dev</td>\n",
       "</tr>\n",
       "</table>"
      ]
     },
     "execution_count": 12,
     "metadata": {},
     "output_type": "execute_result"
    }
   ],
   "source": [
    "soup.find(class_='my_table')"
   ]
  },
  {
   "cell_type": "code",
   "execution_count": 13,
   "id": "3cc12a3a",
   "metadata": {
    "hidden": true
   },
   "outputs": [
    {
     "data": {
      "text/plain": [
       "<td style=\"text-align:center\">John</td>"
      ]
     },
     "execution_count": 13,
     "metadata": {},
     "output_type": "execute_result"
    }
   ],
   "source": [
    "soup.find(class_='my_table').find('td')"
   ]
  },
  {
   "cell_type": "code",
   "execution_count": 14,
   "id": "041a69fa",
   "metadata": {
    "hidden": true
   },
   "outputs": [
    {
     "data": {
      "text/plain": [
       "'John'"
      ]
     },
     "execution_count": 14,
     "metadata": {},
     "output_type": "execute_result"
    }
   ],
   "source": [
    "soup.find(class_='my_table').find('td').text"
   ]
  },
  {
   "cell_type": "code",
   "execution_count": 15,
   "id": "c7d34479",
   "metadata": {
    "hidden": true
   },
   "outputs": [
    {
     "data": {
      "text/plain": [
       "[<td style=\"text-align:center\">John</td>,\n",
       " <td style=\"text-align:center\">66</td>,\n",
       " <td style=\"text-align:center\">Data Science</td>,\n",
       " <td style=\"text-align:center\">Josh</td>,\n",
       " <td style=\"text-align:center\">22</td>,\n",
       " <td style=\"text-align:center\">Web Dev</td>,\n",
       " <td style=\"text-align:center\">Mary</td>,\n",
       " <td style=\"text-align:center\">32</td>,\n",
       " <td style=\"text-align:center\">Data Science</td>,\n",
       " <td style=\"text-align:center\">Rachel</td>,\n",
       " <td style=\"text-align:center\">41</td>,\n",
       " <td style=\"text-align:center\">Data Science</td>,\n",
       " <td style=\"text-align:center\">Stella</td>,\n",
       " <td style=\"text-align:center\">57</td>,\n",
       " <td style=\"text-align:center\">Web Dev</td>]"
      ]
     },
     "execution_count": 15,
     "metadata": {},
     "output_type": "execute_result"
    }
   ],
   "source": [
    "soup.find_all('td')"
   ]
  },
  {
   "cell_type": "code",
   "execution_count": 19,
   "id": "b2e2e920",
   "metadata": {
    "hidden": true
   },
   "outputs": [
    {
     "data": {
      "text/plain": [
       "'Data Science'"
      ]
     },
     "execution_count": 19,
     "metadata": {},
     "output_type": "execute_result"
    }
   ],
   "source": [
    "soup.find_all('td')[2].text"
   ]
  },
  {
   "cell_type": "markdown",
   "id": "62daf379",
   "metadata": {},
   "source": [
    "## Scraping `http://books.toscrape.com/`"
   ]
  },
  {
   "cell_type": "code",
   "execution_count": 20,
   "id": "0a3ec2ef",
   "metadata": {},
   "outputs": [],
   "source": [
    "import requests\n",
    "import pandas as pd\n",
    "from bs4 import BeautifulSoup"
   ]
  },
  {
   "cell_type": "code",
   "execution_count": 21,
   "id": "1269606a",
   "metadata": {},
   "outputs": [],
   "source": [
    "response = requests.get('http://books.toscrape.com/')"
   ]
  },
  {
   "cell_type": "code",
   "execution_count": 22,
   "id": "6fe0282a",
   "metadata": {},
   "outputs": [],
   "source": [
    "soup = BeautifulSoup(response.content, 'html.parser')"
   ]
  },
  {
   "cell_type": "code",
   "execution_count": 25,
   "id": "87dd9c09",
   "metadata": {},
   "outputs": [
    {
     "data": {
      "text/plain": [
       "<title>\n",
       "    All products | Books to Scrape - Sandbox\n",
       "</title>"
      ]
     },
     "execution_count": 25,
     "metadata": {},
     "output_type": "execute_result"
    }
   ],
   "source": [
    "soup.title"
   ]
  },
  {
   "cell_type": "markdown",
   "id": "a66d1abf",
   "metadata": {},
   "source": [
    "### Título"
   ]
  },
  {
   "cell_type": "code",
   "execution_count": 28,
   "id": "83280489",
   "metadata": {},
   "outputs": [
    {
     "data": {
      "text/plain": [
       "<article class=\"product_pod\">\n",
       "<div class=\"image_container\">\n",
       "<a href=\"catalogue/a-light-in-the-attic_1000/index.html\"><img alt=\"A Light in the Attic\" class=\"thumbnail\" src=\"media/cache/2c/da/2cdad67c44b002e7ead0cc35693c0e8b.jpg\"/></a>\n",
       "</div>\n",
       "<p class=\"star-rating Three\">\n",
       "<i class=\"icon-star\"></i>\n",
       "<i class=\"icon-star\"></i>\n",
       "<i class=\"icon-star\"></i>\n",
       "<i class=\"icon-star\"></i>\n",
       "<i class=\"icon-star\"></i>\n",
       "</p>\n",
       "<h3><a href=\"catalogue/a-light-in-the-attic_1000/index.html\" title=\"A Light in the Attic\">A Light in the ...</a></h3>\n",
       "<div class=\"product_price\">\n",
       "<p class=\"price_color\">£51.77</p>\n",
       "<p class=\"instock availability\">\n",
       "<i class=\"icon-ok\"></i>\n",
       "    \n",
       "        In stock\n",
       "    \n",
       "</p>\n",
       "<form>\n",
       "<button class=\"btn btn-primary btn-block\" data-loading-text=\"Adding...\" type=\"submit\">Add to basket</button>\n",
       "</form>\n",
       "</div>\n",
       "</article>"
      ]
     },
     "execution_count": 28,
     "metadata": {},
     "output_type": "execute_result"
    }
   ],
   "source": [
    "soup.find('article', class_='product_pod')"
   ]
  },
  {
   "cell_type": "code",
   "execution_count": 29,
   "id": "e6bbee36",
   "metadata": {},
   "outputs": [
    {
     "data": {
      "text/plain": [
       "<h3><a href=\"catalogue/a-light-in-the-attic_1000/index.html\" title=\"A Light in the Attic\">A Light in the ...</a></h3>"
      ]
     },
     "execution_count": 29,
     "metadata": {},
     "output_type": "execute_result"
    }
   ],
   "source": [
    "soup.find('article', class_='product_pod').h3"
   ]
  },
  {
   "cell_type": "code",
   "execution_count": 30,
   "id": "9c3bd684",
   "metadata": {},
   "outputs": [
    {
     "data": {
      "text/plain": [
       "<a href=\"catalogue/a-light-in-the-attic_1000/index.html\" title=\"A Light in the Attic\">A Light in the ...</a>"
      ]
     },
     "execution_count": 30,
     "metadata": {},
     "output_type": "execute_result"
    }
   ],
   "source": [
    "soup.find('article', class_='product_pod').h3.find('a')"
   ]
  },
  {
   "cell_type": "code",
   "execution_count": 33,
   "id": "1c538cef",
   "metadata": {},
   "outputs": [
    {
     "data": {
      "text/plain": [
       "'A Light in the ...'"
      ]
     },
     "execution_count": 33,
     "metadata": {},
     "output_type": "execute_result"
    }
   ],
   "source": [
    "soup.find('article', class_='product_pod').h3.find('a').text"
   ]
  },
  {
   "cell_type": "code",
   "execution_count": 32,
   "id": "3221457a",
   "metadata": {},
   "outputs": [
    {
     "data": {
      "text/plain": [
       "'A Light in the Attic'"
      ]
     },
     "execution_count": 32,
     "metadata": {},
     "output_type": "execute_result"
    }
   ],
   "source": [
    "soup.find('article', class_='product_pod').h3.find('a')['title']"
   ]
  },
  {
   "cell_type": "markdown",
   "id": "51f16ecd",
   "metadata": {},
   "source": [
    "### Preço"
   ]
  },
  {
   "cell_type": "code",
   "execution_count": 34,
   "id": "cfa216a3",
   "metadata": {},
   "outputs": [
    {
     "data": {
      "text/plain": [
       "<p class=\"price_color\">£51.77</p>"
      ]
     },
     "execution_count": 34,
     "metadata": {},
     "output_type": "execute_result"
    }
   ],
   "source": [
    "soup.find('p', class_='price_color')"
   ]
  },
  {
   "cell_type": "code",
   "execution_count": 36,
   "id": "dc4f788e",
   "metadata": {},
   "outputs": [
    {
     "data": {
      "text/plain": [
       "'£51.77'"
      ]
     },
     "execution_count": 36,
     "metadata": {},
     "output_type": "execute_result"
    }
   ],
   "source": [
    "preco = soup.find('p', class_='price_color').text\n",
    "preco"
   ]
  },
  {
   "cell_type": "code",
   "execution_count": 37,
   "id": "dfbd7e18",
   "metadata": {},
   "outputs": [
    {
     "data": {
      "text/plain": [
       "str"
      ]
     },
     "execution_count": 37,
     "metadata": {},
     "output_type": "execute_result"
    }
   ],
   "source": [
    "type(preco)"
   ]
  },
  {
   "cell_type": "code",
   "execution_count": 38,
   "id": "5f05e481",
   "metadata": {},
   "outputs": [
    {
     "data": {
      "text/plain": [
       "'51.77'"
      ]
     },
     "execution_count": 38,
     "metadata": {},
     "output_type": "execute_result"
    }
   ],
   "source": [
    "preco.replace('£', '')"
   ]
  },
  {
   "cell_type": "code",
   "execution_count": 41,
   "id": "44574897",
   "metadata": {},
   "outputs": [
    {
     "data": {
      "text/plain": [
       "51.77"
      ]
     },
     "execution_count": 41,
     "metadata": {},
     "output_type": "execute_result"
    }
   ],
   "source": [
    "float(preco.replace('£', ''))"
   ]
  },
  {
   "cell_type": "markdown",
   "id": "fa08189d",
   "metadata": {},
   "source": [
    "### Avaliação"
   ]
  },
  {
   "cell_type": "code",
   "execution_count": 42,
   "id": "5bfba27d",
   "metadata": {
    "collapsed": true
   },
   "outputs": [
    {
     "data": {
      "text/plain": [
       "<article class=\"product_pod\">\n",
       "<div class=\"image_container\">\n",
       "<a href=\"catalogue/a-light-in-the-attic_1000/index.html\"><img alt=\"A Light in the Attic\" class=\"thumbnail\" src=\"media/cache/2c/da/2cdad67c44b002e7ead0cc35693c0e8b.jpg\"/></a>\n",
       "</div>\n",
       "<p class=\"star-rating Three\">\n",
       "<i class=\"icon-star\"></i>\n",
       "<i class=\"icon-star\"></i>\n",
       "<i class=\"icon-star\"></i>\n",
       "<i class=\"icon-star\"></i>\n",
       "<i class=\"icon-star\"></i>\n",
       "</p>\n",
       "<h3><a href=\"catalogue/a-light-in-the-attic_1000/index.html\" title=\"A Light in the Attic\">A Light in the ...</a></h3>\n",
       "<div class=\"product_price\">\n",
       "<p class=\"price_color\">£51.77</p>\n",
       "<p class=\"instock availability\">\n",
       "<i class=\"icon-ok\"></i>\n",
       "    \n",
       "        In stock\n",
       "    \n",
       "</p>\n",
       "<form>\n",
       "<button class=\"btn btn-primary btn-block\" data-loading-text=\"Adding...\" type=\"submit\">Add to basket</button>\n",
       "</form>\n",
       "</div>\n",
       "</article>"
      ]
     },
     "execution_count": 42,
     "metadata": {},
     "output_type": "execute_result"
    }
   ],
   "source": [
    "soup.find('article')"
   ]
  },
  {
   "cell_type": "code",
   "execution_count": 43,
   "id": "185e512f",
   "metadata": {},
   "outputs": [
    {
     "data": {
      "text/plain": [
       "<p class=\"star-rating Three\">\n",
       "<i class=\"icon-star\"></i>\n",
       "<i class=\"icon-star\"></i>\n",
       "<i class=\"icon-star\"></i>\n",
       "<i class=\"icon-star\"></i>\n",
       "<i class=\"icon-star\"></i>\n",
       "</p>"
      ]
     },
     "execution_count": 43,
     "metadata": {},
     "output_type": "execute_result"
    }
   ],
   "source": [
    "soup.find('article').p"
   ]
  },
  {
   "cell_type": "code",
   "execution_count": 46,
   "id": "6b2bf564",
   "metadata": {},
   "outputs": [
    {
     "data": {
      "text/plain": [
       "'\\n\\n\\n\\n\\n\\n'"
      ]
     },
     "execution_count": 46,
     "metadata": {},
     "output_type": "execute_result"
    }
   ],
   "source": [
    "soup.find('article').p.text"
   ]
  },
  {
   "cell_type": "code",
   "execution_count": 45,
   "id": "e6743a45",
   "metadata": {},
   "outputs": [
    {
     "data": {
      "text/plain": [
       "['star-rating', 'Three']"
      ]
     },
     "execution_count": 45,
     "metadata": {},
     "output_type": "execute_result"
    }
   ],
   "source": [
    "soup.find('article').p['class']"
   ]
  },
  {
   "cell_type": "code",
   "execution_count": 47,
   "id": "1a56fcb0",
   "metadata": {},
   "outputs": [
    {
     "data": {
      "text/plain": [
       "'Three'"
      ]
     },
     "execution_count": 47,
     "metadata": {},
     "output_type": "execute_result"
    }
   ],
   "source": [
    "soup.find('article').p['class'][1]"
   ]
  },
  {
   "cell_type": "markdown",
   "id": "34e21501",
   "metadata": {},
   "source": [
    "### Todos os livros"
   ]
  },
  {
   "cell_type": "code",
   "execution_count": 51,
   "id": "65e454e6",
   "metadata": {},
   "outputs": [],
   "source": [
    "livros = soup.find_all('article', class_='product_pod')"
   ]
  },
  {
   "cell_type": "code",
   "execution_count": 52,
   "id": "2e4ad208",
   "metadata": {},
   "outputs": [
    {
     "data": {
      "text/plain": [
       "20"
      ]
     },
     "execution_count": 52,
     "metadata": {},
     "output_type": "execute_result"
    }
   ],
   "source": [
    "len(livros)"
   ]
  },
  {
   "cell_type": "code",
   "execution_count": 54,
   "id": "4ea6b355",
   "metadata": {
    "collapsed": true
   },
   "outputs": [
    {
     "name": "stdout",
     "output_type": "stream",
     "text": [
      "<article class=\"product_pod\">\n",
      "<div class=\"image_container\">\n",
      "<a href=\"catalogue/a-light-in-the-attic_1000/index.html\"><img alt=\"A Light in the Attic\" class=\"thumbnail\" src=\"media/cache/2c/da/2cdad67c44b002e7ead0cc35693c0e8b.jpg\"/></a>\n",
      "</div>\n",
      "<p class=\"star-rating Three\">\n",
      "<i class=\"icon-star\"></i>\n",
      "<i class=\"icon-star\"></i>\n",
      "<i class=\"icon-star\"></i>\n",
      "<i class=\"icon-star\"></i>\n",
      "<i class=\"icon-star\"></i>\n",
      "</p>\n",
      "<h3><a href=\"catalogue/a-light-in-the-attic_1000/index.html\" title=\"A Light in the Attic\">A Light in the ...</a></h3>\n",
      "<div class=\"product_price\">\n",
      "<p class=\"price_color\">£51.77</p>\n",
      "<p class=\"instock availability\">\n",
      "<i class=\"icon-ok\"></i>\n",
      "    \n",
      "        In stock\n",
      "    \n",
      "</p>\n",
      "<form>\n",
      "<button class=\"btn btn-primary btn-block\" data-loading-text=\"Adding...\" type=\"submit\">Add to basket</button>\n",
      "</form>\n",
      "</div>\n",
      "</article>\n",
      "----------------------------------------------------------------------------------------------------\n",
      "<article class=\"product_pod\">\n",
      "<div class=\"image_container\">\n",
      "<a href=\"catalogue/tipping-the-velvet_999/index.html\"><img alt=\"Tipping the Velvet\" class=\"thumbnail\" src=\"media/cache/26/0c/260c6ae16bce31c8f8c95daddd9f4a1c.jpg\"/></a>\n",
      "</div>\n",
      "<p class=\"star-rating One\">\n",
      "<i class=\"icon-star\"></i>\n",
      "<i class=\"icon-star\"></i>\n",
      "<i class=\"icon-star\"></i>\n",
      "<i class=\"icon-star\"></i>\n",
      "<i class=\"icon-star\"></i>\n",
      "</p>\n",
      "<h3><a href=\"catalogue/tipping-the-velvet_999/index.html\" title=\"Tipping the Velvet\">Tipping the Velvet</a></h3>\n",
      "<div class=\"product_price\">\n",
      "<p class=\"price_color\">£53.74</p>\n",
      "<p class=\"instock availability\">\n",
      "<i class=\"icon-ok\"></i>\n",
      "    \n",
      "        In stock\n",
      "    \n",
      "</p>\n",
      "<form>\n",
      "<button class=\"btn btn-primary btn-block\" data-loading-text=\"Adding...\" type=\"submit\">Add to basket</button>\n",
      "</form>\n",
      "</div>\n",
      "</article>\n",
      "----------------------------------------------------------------------------------------------------\n",
      "<article class=\"product_pod\">\n",
      "<div class=\"image_container\">\n",
      "<a href=\"catalogue/soumission_998/index.html\"><img alt=\"Soumission\" class=\"thumbnail\" src=\"media/cache/3e/ef/3eef99c9d9adef34639f510662022830.jpg\"/></a>\n",
      "</div>\n",
      "<p class=\"star-rating One\">\n",
      "<i class=\"icon-star\"></i>\n",
      "<i class=\"icon-star\"></i>\n",
      "<i class=\"icon-star\"></i>\n",
      "<i class=\"icon-star\"></i>\n",
      "<i class=\"icon-star\"></i>\n",
      "</p>\n",
      "<h3><a href=\"catalogue/soumission_998/index.html\" title=\"Soumission\">Soumission</a></h3>\n",
      "<div class=\"product_price\">\n",
      "<p class=\"price_color\">£50.10</p>\n",
      "<p class=\"instock availability\">\n",
      "<i class=\"icon-ok\"></i>\n",
      "    \n",
      "        In stock\n",
      "    \n",
      "</p>\n",
      "<form>\n",
      "<button class=\"btn btn-primary btn-block\" data-loading-text=\"Adding...\" type=\"submit\">Add to basket</button>\n",
      "</form>\n",
      "</div>\n",
      "</article>\n",
      "----------------------------------------------------------------------------------------------------\n",
      "<article class=\"product_pod\">\n",
      "<div class=\"image_container\">\n",
      "<a href=\"catalogue/sharp-objects_997/index.html\"><img alt=\"Sharp Objects\" class=\"thumbnail\" src=\"media/cache/32/51/3251cf3a3412f53f339e42cac2134093.jpg\"/></a>\n",
      "</div>\n",
      "<p class=\"star-rating Four\">\n",
      "<i class=\"icon-star\"></i>\n",
      "<i class=\"icon-star\"></i>\n",
      "<i class=\"icon-star\"></i>\n",
      "<i class=\"icon-star\"></i>\n",
      "<i class=\"icon-star\"></i>\n",
      "</p>\n",
      "<h3><a href=\"catalogue/sharp-objects_997/index.html\" title=\"Sharp Objects\">Sharp Objects</a></h3>\n",
      "<div class=\"product_price\">\n",
      "<p class=\"price_color\">£47.82</p>\n",
      "<p class=\"instock availability\">\n",
      "<i class=\"icon-ok\"></i>\n",
      "    \n",
      "        In stock\n",
      "    \n",
      "</p>\n",
      "<form>\n",
      "<button class=\"btn btn-primary btn-block\" data-loading-text=\"Adding...\" type=\"submit\">Add to basket</button>\n",
      "</form>\n",
      "</div>\n",
      "</article>\n",
      "----------------------------------------------------------------------------------------------------\n",
      "<article class=\"product_pod\">\n",
      "<div class=\"image_container\">\n",
      "<a href=\"catalogue/sapiens-a-brief-history-of-humankind_996/index.html\"><img alt=\"Sapiens: A Brief History of Humankind\" class=\"thumbnail\" src=\"media/cache/be/a5/bea5697f2534a2f86a3ef27b5a8c12a6.jpg\"/></a>\n",
      "</div>\n",
      "<p class=\"star-rating Five\">\n",
      "<i class=\"icon-star\"></i>\n",
      "<i class=\"icon-star\"></i>\n",
      "<i class=\"icon-star\"></i>\n",
      "<i class=\"icon-star\"></i>\n",
      "<i class=\"icon-star\"></i>\n",
      "</p>\n",
      "<h3><a href=\"catalogue/sapiens-a-brief-history-of-humankind_996/index.html\" title=\"Sapiens: A Brief History of Humankind\">Sapiens: A Brief History ...</a></h3>\n",
      "<div class=\"product_price\">\n",
      "<p class=\"price_color\">£54.23</p>\n",
      "<p class=\"instock availability\">\n",
      "<i class=\"icon-ok\"></i>\n",
      "    \n",
      "        In stock\n",
      "    \n",
      "</p>\n",
      "<form>\n",
      "<button class=\"btn btn-primary btn-block\" data-loading-text=\"Adding...\" type=\"submit\">Add to basket</button>\n",
      "</form>\n",
      "</div>\n",
      "</article>\n",
      "----------------------------------------------------------------------------------------------------\n",
      "<article class=\"product_pod\">\n",
      "<div class=\"image_container\">\n",
      "<a href=\"catalogue/the-requiem-red_995/index.html\"><img alt=\"The Requiem Red\" class=\"thumbnail\" src=\"media/cache/68/33/68339b4c9bc034267e1da611ab3b34f8.jpg\"/></a>\n",
      "</div>\n",
      "<p class=\"star-rating One\">\n",
      "<i class=\"icon-star\"></i>\n",
      "<i class=\"icon-star\"></i>\n",
      "<i class=\"icon-star\"></i>\n",
      "<i class=\"icon-star\"></i>\n",
      "<i class=\"icon-star\"></i>\n",
      "</p>\n",
      "<h3><a href=\"catalogue/the-requiem-red_995/index.html\" title=\"The Requiem Red\">The Requiem Red</a></h3>\n",
      "<div class=\"product_price\">\n",
      "<p class=\"price_color\">£22.65</p>\n",
      "<p class=\"instock availability\">\n",
      "<i class=\"icon-ok\"></i>\n",
      "    \n",
      "        In stock\n",
      "    \n",
      "</p>\n",
      "<form>\n",
      "<button class=\"btn btn-primary btn-block\" data-loading-text=\"Adding...\" type=\"submit\">Add to basket</button>\n",
      "</form>\n",
      "</div>\n",
      "</article>\n",
      "----------------------------------------------------------------------------------------------------\n",
      "<article class=\"product_pod\">\n",
      "<div class=\"image_container\">\n",
      "<a href=\"catalogue/the-dirty-little-secrets-of-getting-your-dream-job_994/index.html\"><img alt=\"The Dirty Little Secrets of Getting Your Dream Job\" class=\"thumbnail\" src=\"media/cache/92/27/92274a95b7c251fea59a2b8a78275ab4.jpg\"/></a>\n",
      "</div>\n",
      "<p class=\"star-rating Four\">\n",
      "<i class=\"icon-star\"></i>\n",
      "<i class=\"icon-star\"></i>\n",
      "<i class=\"icon-star\"></i>\n",
      "<i class=\"icon-star\"></i>\n",
      "<i class=\"icon-star\"></i>\n",
      "</p>\n",
      "<h3><a href=\"catalogue/the-dirty-little-secrets-of-getting-your-dream-job_994/index.html\" title=\"The Dirty Little Secrets of Getting Your Dream Job\">The Dirty Little Secrets ...</a></h3>\n",
      "<div class=\"product_price\">\n",
      "<p class=\"price_color\">£33.34</p>\n",
      "<p class=\"instock availability\">\n",
      "<i class=\"icon-ok\"></i>\n",
      "    \n",
      "        In stock\n",
      "    \n",
      "</p>\n",
      "<form>\n",
      "<button class=\"btn btn-primary btn-block\" data-loading-text=\"Adding...\" type=\"submit\">Add to basket</button>\n",
      "</form>\n",
      "</div>\n",
      "</article>\n",
      "----------------------------------------------------------------------------------------------------\n",
      "<article class=\"product_pod\">\n",
      "<div class=\"image_container\">\n",
      "<a href=\"catalogue/the-coming-woman-a-novel-based-on-the-life-of-the-infamous-feminist-victoria-woodhull_993/index.html\"><img alt=\"The Coming Woman: A Novel Based on the Life of the Infamous Feminist, Victoria Woodhull\" class=\"thumbnail\" src=\"media/cache/3d/54/3d54940e57e662c4dd1f3ff00c78cc64.jpg\"/></a>\n",
      "</div>\n",
      "<p class=\"star-rating Three\">\n",
      "<i class=\"icon-star\"></i>\n",
      "<i class=\"icon-star\"></i>\n",
      "<i class=\"icon-star\"></i>\n",
      "<i class=\"icon-star\"></i>\n",
      "<i class=\"icon-star\"></i>\n",
      "</p>\n",
      "<h3><a href=\"catalogue/the-coming-woman-a-novel-based-on-the-life-of-the-infamous-feminist-victoria-woodhull_993/index.html\" title=\"The Coming Woman: A Novel Based on the Life of the Infamous Feminist, Victoria Woodhull\">The Coming Woman: A ...</a></h3>\n",
      "<div class=\"product_price\">\n",
      "<p class=\"price_color\">£17.93</p>\n",
      "<p class=\"instock availability\">\n",
      "<i class=\"icon-ok\"></i>\n",
      "    \n",
      "        In stock\n",
      "    \n",
      "</p>\n",
      "<form>\n",
      "<button class=\"btn btn-primary btn-block\" data-loading-text=\"Adding...\" type=\"submit\">Add to basket</button>\n",
      "</form>\n",
      "</div>\n",
      "</article>\n",
      "----------------------------------------------------------------------------------------------------\n",
      "<article class=\"product_pod\">\n",
      "<div class=\"image_container\">\n",
      "<a href=\"catalogue/the-boys-in-the-boat-nine-americans-and-their-epic-quest-for-gold-at-the-1936-berlin-olympics_992/index.html\"><img alt=\"The Boys in the Boat: Nine Americans and Their Epic Quest for Gold at the 1936 Berlin Olympics\" class=\"thumbnail\" src=\"media/cache/66/88/66883b91f6804b2323c8369331cb7dd1.jpg\"/></a>\n",
      "</div>\n",
      "<p class=\"star-rating Four\">\n",
      "<i class=\"icon-star\"></i>\n",
      "<i class=\"icon-star\"></i>\n",
      "<i class=\"icon-star\"></i>\n",
      "<i class=\"icon-star\"></i>\n",
      "<i class=\"icon-star\"></i>\n",
      "</p>\n",
      "<h3><a href=\"catalogue/the-boys-in-the-boat-nine-americans-and-their-epic-quest-for-gold-at-the-1936-berlin-olympics_992/index.html\" title=\"The Boys in the Boat: Nine Americans and Their Epic Quest for Gold at the 1936 Berlin Olympics\">The Boys in the ...</a></h3>\n",
      "<div class=\"product_price\">\n",
      "<p class=\"price_color\">£22.60</p>\n",
      "<p class=\"instock availability\">\n",
      "<i class=\"icon-ok\"></i>\n",
      "    \n",
      "        In stock\n",
      "    \n",
      "</p>\n",
      "<form>\n",
      "<button class=\"btn btn-primary btn-block\" data-loading-text=\"Adding...\" type=\"submit\">Add to basket</button>\n",
      "</form>\n",
      "</div>\n",
      "</article>\n",
      "----------------------------------------------------------------------------------------------------\n",
      "<article class=\"product_pod\">\n",
      "<div class=\"image_container\">\n",
      "<a href=\"catalogue/the-black-maria_991/index.html\"><img alt=\"The Black Maria\" class=\"thumbnail\" src=\"media/cache/58/46/5846057e28022268153beff6d352b06c.jpg\"/></a>\n",
      "</div>\n",
      "<p class=\"star-rating One\">\n",
      "<i class=\"icon-star\"></i>\n",
      "<i class=\"icon-star\"></i>\n",
      "<i class=\"icon-star\"></i>\n",
      "<i class=\"icon-star\"></i>\n",
      "<i class=\"icon-star\"></i>\n",
      "</p>\n",
      "<h3><a href=\"catalogue/the-black-maria_991/index.html\" title=\"The Black Maria\">The Black Maria</a></h3>\n",
      "<div class=\"product_price\">\n",
      "<p class=\"price_color\">£52.15</p>\n",
      "<p class=\"instock availability\">\n",
      "<i class=\"icon-ok\"></i>\n",
      "    \n",
      "        In stock\n",
      "    \n",
      "</p>\n",
      "<form>\n",
      "<button class=\"btn btn-primary btn-block\" data-loading-text=\"Adding...\" type=\"submit\">Add to basket</button>\n",
      "</form>\n",
      "</div>\n",
      "</article>\n",
      "----------------------------------------------------------------------------------------------------\n",
      "<article class=\"product_pod\">\n",
      "<div class=\"image_container\">\n",
      "<a href=\"catalogue/starving-hearts-triangular-trade-trilogy-1_990/index.html\"><img alt=\"Starving Hearts (Triangular Trade Trilogy, #1)\" class=\"thumbnail\" src=\"media/cache/be/f4/bef44da28c98f905a3ebec0b87be8530.jpg\"/></a>\n",
      "</div>\n",
      "<p class=\"star-rating Two\">\n",
      "<i class=\"icon-star\"></i>\n",
      "<i class=\"icon-star\"></i>\n",
      "<i class=\"icon-star\"></i>\n",
      "<i class=\"icon-star\"></i>\n",
      "<i class=\"icon-star\"></i>\n",
      "</p>\n",
      "<h3><a href=\"catalogue/starving-hearts-triangular-trade-trilogy-1_990/index.html\" title=\"Starving Hearts (Triangular Trade Trilogy, #1)\">Starving Hearts (Triangular Trade ...</a></h3>\n",
      "<div class=\"product_price\">\n",
      "<p class=\"price_color\">£13.99</p>\n",
      "<p class=\"instock availability\">\n",
      "<i class=\"icon-ok\"></i>\n",
      "    \n",
      "        In stock\n",
      "    \n",
      "</p>\n",
      "<form>\n",
      "<button class=\"btn btn-primary btn-block\" data-loading-text=\"Adding...\" type=\"submit\">Add to basket</button>\n",
      "</form>\n",
      "</div>\n",
      "</article>\n",
      "----------------------------------------------------------------------------------------------------\n",
      "<article class=\"product_pod\">\n",
      "<div class=\"image_container\">\n",
      "<a href=\"catalogue/shakespeares-sonnets_989/index.html\"><img alt=\"Shakespeare's Sonnets\" class=\"thumbnail\" src=\"media/cache/10/48/1048f63d3b5061cd2f424d20b3f9b666.jpg\"/></a>\n",
      "</div>\n",
      "<p class=\"star-rating Four\">\n",
      "<i class=\"icon-star\"></i>\n",
      "<i class=\"icon-star\"></i>\n",
      "<i class=\"icon-star\"></i>\n",
      "<i class=\"icon-star\"></i>\n",
      "<i class=\"icon-star\"></i>\n",
      "</p>\n",
      "<h3><a href=\"catalogue/shakespeares-sonnets_989/index.html\" title=\"Shakespeare's Sonnets\">Shakespeare's Sonnets</a></h3>\n",
      "<div class=\"product_price\">\n",
      "<p class=\"price_color\">£20.66</p>\n",
      "<p class=\"instock availability\">\n",
      "<i class=\"icon-ok\"></i>\n",
      "    \n",
      "        In stock\n",
      "    \n",
      "</p>\n",
      "<form>\n",
      "<button class=\"btn btn-primary btn-block\" data-loading-text=\"Adding...\" type=\"submit\">Add to basket</button>\n",
      "</form>\n",
      "</div>\n",
      "</article>\n",
      "----------------------------------------------------------------------------------------------------\n",
      "<article class=\"product_pod\">\n",
      "<div class=\"image_container\">\n",
      "<a href=\"catalogue/set-me-free_988/index.html\"><img alt=\"Set Me Free\" class=\"thumbnail\" src=\"media/cache/5b/88/5b88c52633f53cacf162c15f4f823153.jpg\"/></a>\n",
      "</div>\n",
      "<p class=\"star-rating Five\">\n",
      "<i class=\"icon-star\"></i>\n",
      "<i class=\"icon-star\"></i>\n",
      "<i class=\"icon-star\"></i>\n",
      "<i class=\"icon-star\"></i>\n",
      "<i class=\"icon-star\"></i>\n",
      "</p>\n",
      "<h3><a href=\"catalogue/set-me-free_988/index.html\" title=\"Set Me Free\">Set Me Free</a></h3>\n",
      "<div class=\"product_price\">\n",
      "<p class=\"price_color\">£17.46</p>\n",
      "<p class=\"instock availability\">\n",
      "<i class=\"icon-ok\"></i>\n",
      "    \n",
      "        In stock\n",
      "    \n",
      "</p>\n",
      "<form>\n",
      "<button class=\"btn btn-primary btn-block\" data-loading-text=\"Adding...\" type=\"submit\">Add to basket</button>\n",
      "</form>\n",
      "</div>\n",
      "</article>\n",
      "----------------------------------------------------------------------------------------------------\n",
      "<article class=\"product_pod\">\n",
      "<div class=\"image_container\">\n",
      "<a href=\"catalogue/scott-pilgrims-precious-little-life-scott-pilgrim-1_987/index.html\"><img alt=\"Scott Pilgrim's Precious Little Life (Scott Pilgrim #1)\" class=\"thumbnail\" src=\"media/cache/94/b1/94b1b8b244bce9677c2f29ccc890d4d2.jpg\"/></a>\n",
      "</div>\n",
      "<p class=\"star-rating Five\">\n",
      "<i class=\"icon-star\"></i>\n",
      "<i class=\"icon-star\"></i>\n",
      "<i class=\"icon-star\"></i>\n",
      "<i class=\"icon-star\"></i>\n",
      "<i class=\"icon-star\"></i>\n",
      "</p>\n",
      "<h3><a href=\"catalogue/scott-pilgrims-precious-little-life-scott-pilgrim-1_987/index.html\" title=\"Scott Pilgrim's Precious Little Life (Scott Pilgrim #1)\">Scott Pilgrim's Precious Little ...</a></h3>\n",
      "<div class=\"product_price\">\n",
      "<p class=\"price_color\">£52.29</p>\n",
      "<p class=\"instock availability\">\n",
      "<i class=\"icon-ok\"></i>\n",
      "    \n",
      "        In stock\n",
      "    \n",
      "</p>\n",
      "<form>\n",
      "<button class=\"btn btn-primary btn-block\" data-loading-text=\"Adding...\" type=\"submit\">Add to basket</button>\n",
      "</form>\n",
      "</div>\n",
      "</article>\n",
      "----------------------------------------------------------------------------------------------------\n",
      "<article class=\"product_pod\">\n",
      "<div class=\"image_container\">\n",
      "<a href=\"catalogue/rip-it-up-and-start-again_986/index.html\"><img alt=\"Rip it Up and Start Again\" class=\"thumbnail\" src=\"media/cache/81/c4/81c4a973364e17d01f217e1188253d5e.jpg\"/></a>\n",
      "</div>\n",
      "<p class=\"star-rating Five\">\n",
      "<i class=\"icon-star\"></i>\n",
      "<i class=\"icon-star\"></i>\n",
      "<i class=\"icon-star\"></i>\n",
      "<i class=\"icon-star\"></i>\n",
      "<i class=\"icon-star\"></i>\n",
      "</p>\n",
      "<h3><a href=\"catalogue/rip-it-up-and-start-again_986/index.html\" title=\"Rip it Up and Start Again\">Rip it Up and ...</a></h3>\n",
      "<div class=\"product_price\">\n",
      "<p class=\"price_color\">£35.02</p>\n",
      "<p class=\"instock availability\">\n",
      "<i class=\"icon-ok\"></i>\n",
      "    \n",
      "        In stock\n",
      "    \n",
      "</p>\n",
      "<form>\n",
      "<button class=\"btn btn-primary btn-block\" data-loading-text=\"Adding...\" type=\"submit\">Add to basket</button>\n",
      "</form>\n",
      "</div>\n",
      "</article>\n",
      "----------------------------------------------------------------------------------------------------\n",
      "<article class=\"product_pod\">\n",
      "<div class=\"image_container\">\n",
      "<a href=\"catalogue/our-band-could-be-your-life-scenes-from-the-american-indie-underground-1981-1991_985/index.html\"><img alt=\"Our Band Could Be Your Life: Scenes from the American Indie Underground, 1981-1991\" class=\"thumbnail\" src=\"media/cache/54/60/54607fe8945897cdcced0044103b10b6.jpg\"/></a>\n",
      "</div>\n",
      "<p class=\"star-rating Three\">\n",
      "<i class=\"icon-star\"></i>\n",
      "<i class=\"icon-star\"></i>\n",
      "<i class=\"icon-star\"></i>\n",
      "<i class=\"icon-star\"></i>\n",
      "<i class=\"icon-star\"></i>\n",
      "</p>\n",
      "<h3><a href=\"catalogue/our-band-could-be-your-life-scenes-from-the-american-indie-underground-1981-1991_985/index.html\" title=\"Our Band Could Be Your Life: Scenes from the American Indie Underground, 1981-1991\">Our Band Could Be ...</a></h3>\n",
      "<div class=\"product_price\">\n",
      "<p class=\"price_color\">£57.25</p>\n",
      "<p class=\"instock availability\">\n",
      "<i class=\"icon-ok\"></i>\n",
      "    \n",
      "        In stock\n",
      "    \n",
      "</p>\n",
      "<form>\n",
      "<button class=\"btn btn-primary btn-block\" data-loading-text=\"Adding...\" type=\"submit\">Add to basket</button>\n",
      "</form>\n",
      "</div>\n",
      "</article>\n",
      "----------------------------------------------------------------------------------------------------\n",
      "<article class=\"product_pod\">\n",
      "<div class=\"image_container\">\n",
      "<a href=\"catalogue/olio_984/index.html\"><img alt=\"Olio\" class=\"thumbnail\" src=\"media/cache/55/33/553310a7162dfbc2c6d19a84da0df9e1.jpg\"/></a>\n",
      "</div>\n",
      "<p class=\"star-rating One\">\n",
      "<i class=\"icon-star\"></i>\n",
      "<i class=\"icon-star\"></i>\n",
      "<i class=\"icon-star\"></i>\n",
      "<i class=\"icon-star\"></i>\n",
      "<i class=\"icon-star\"></i>\n",
      "</p>\n",
      "<h3><a href=\"catalogue/olio_984/index.html\" title=\"Olio\">Olio</a></h3>\n",
      "<div class=\"product_price\">\n",
      "<p class=\"price_color\">£23.88</p>\n",
      "<p class=\"instock availability\">\n",
      "<i class=\"icon-ok\"></i>\n",
      "    \n",
      "        In stock\n",
      "    \n",
      "</p>\n",
      "<form>\n",
      "<button class=\"btn btn-primary btn-block\" data-loading-text=\"Adding...\" type=\"submit\">Add to basket</button>\n",
      "</form>\n",
      "</div>\n",
      "</article>\n",
      "----------------------------------------------------------------------------------------------------\n",
      "<article class=\"product_pod\">\n",
      "<div class=\"image_container\">\n",
      "<a href=\"catalogue/mesaerion-the-best-science-fiction-stories-1800-1849_983/index.html\"><img alt=\"Mesaerion: The Best Science Fiction Stories 1800-1849\" class=\"thumbnail\" src=\"media/cache/09/a3/09a3aef48557576e1a85ba7efea8ecb7.jpg\"/></a>\n",
      "</div>\n",
      "<p class=\"star-rating One\">\n",
      "<i class=\"icon-star\"></i>\n",
      "<i class=\"icon-star\"></i>\n",
      "<i class=\"icon-star\"></i>\n",
      "<i class=\"icon-star\"></i>\n",
      "<i class=\"icon-star\"></i>\n",
      "</p>\n",
      "<h3><a href=\"catalogue/mesaerion-the-best-science-fiction-stories-1800-1849_983/index.html\" title=\"Mesaerion: The Best Science Fiction Stories 1800-1849\">Mesaerion: The Best Science ...</a></h3>\n",
      "<div class=\"product_price\">\n",
      "<p class=\"price_color\">£37.59</p>\n",
      "<p class=\"instock availability\">\n",
      "<i class=\"icon-ok\"></i>\n",
      "    \n",
      "        In stock\n",
      "    \n",
      "</p>\n",
      "<form>\n",
      "<button class=\"btn btn-primary btn-block\" data-loading-text=\"Adding...\" type=\"submit\">Add to basket</button>\n",
      "</form>\n",
      "</div>\n",
      "</article>\n",
      "----------------------------------------------------------------------------------------------------\n",
      "<article class=\"product_pod\">\n",
      "<div class=\"image_container\">\n",
      "<a href=\"catalogue/libertarianism-for-beginners_982/index.html\"><img alt=\"Libertarianism for Beginners\" class=\"thumbnail\" src=\"media/cache/0b/bc/0bbcd0a6f4bcd81ccb1049a52736406e.jpg\"/></a>\n",
      "</div>\n",
      "<p class=\"star-rating Two\">\n",
      "<i class=\"icon-star\"></i>\n",
      "<i class=\"icon-star\"></i>\n",
      "<i class=\"icon-star\"></i>\n",
      "<i class=\"icon-star\"></i>\n",
      "<i class=\"icon-star\"></i>\n",
      "</p>\n",
      "<h3><a href=\"catalogue/libertarianism-for-beginners_982/index.html\" title=\"Libertarianism for Beginners\">Libertarianism for Beginners</a></h3>\n",
      "<div class=\"product_price\">\n",
      "<p class=\"price_color\">£51.33</p>\n",
      "<p class=\"instock availability\">\n",
      "<i class=\"icon-ok\"></i>\n",
      "    \n",
      "        In stock\n",
      "    \n",
      "</p>\n",
      "<form>\n",
      "<button class=\"btn btn-primary btn-block\" data-loading-text=\"Adding...\" type=\"submit\">Add to basket</button>\n",
      "</form>\n",
      "</div>\n",
      "</article>\n",
      "----------------------------------------------------------------------------------------------------\n",
      "<article class=\"product_pod\">\n",
      "<div class=\"image_container\">\n",
      "<a href=\"catalogue/its-only-the-himalayas_981/index.html\"><img alt=\"It's Only the Himalayas\" class=\"thumbnail\" src=\"media/cache/27/a5/27a53d0bb95bdd88288eaf66c9230d7e.jpg\"/></a>\n",
      "</div>\n",
      "<p class=\"star-rating Two\">\n",
      "<i class=\"icon-star\"></i>\n",
      "<i class=\"icon-star\"></i>\n",
      "<i class=\"icon-star\"></i>\n",
      "<i class=\"icon-star\"></i>\n",
      "<i class=\"icon-star\"></i>\n",
      "</p>\n",
      "<h3><a href=\"catalogue/its-only-the-himalayas_981/index.html\" title=\"It's Only the Himalayas\">It's Only the Himalayas</a></h3>\n",
      "<div class=\"product_price\">\n",
      "<p class=\"price_color\">£45.17</p>\n",
      "<p class=\"instock availability\">\n",
      "<i class=\"icon-ok\"></i>\n",
      "    \n",
      "        In stock\n",
      "    \n",
      "</p>\n",
      "<form>\n",
      "<button class=\"btn btn-primary btn-block\" data-loading-text=\"Adding...\" type=\"submit\">Add to basket</button>\n",
      "</form>\n",
      "</div>\n",
      "</article>\n",
      "----------------------------------------------------------------------------------------------------\n"
     ]
    }
   ],
   "source": [
    "for livro in livros:\n",
    "    print(livro)\n",
    "    print('-'*100)"
   ]
  },
  {
   "cell_type": "code",
   "execution_count": null,
   "id": "25a941d1",
   "metadata": {},
   "outputs": [],
   "source": [
    "# soup.find('article', class_='product_pod').h3.find('a')['title']\n",
    "# soup.find('p', class_='price_color').text\n",
    "# soup.find('article').p['class'][1]"
   ]
  },
  {
   "cell_type": "code",
   "execution_count": 69,
   "id": "da7c091e",
   "metadata": {},
   "outputs": [],
   "source": [
    "my_dic = {'name': 'John', 'age': 66}"
   ]
  },
  {
   "cell_type": "code",
   "execution_count": 73,
   "id": "79429d5a",
   "metadata": {},
   "outputs": [
    {
     "data": {
      "text/plain": [
       "'John'"
      ]
     },
     "execution_count": 73,
     "metadata": {},
     "output_type": "execute_result"
    }
   ],
   "source": [
    "my_dic['name']"
   ]
  },
  {
   "cell_type": "code",
   "execution_count": 74,
   "id": "1069617a",
   "metadata": {},
   "outputs": [],
   "source": [
    "livros_dict = {'Título': [], 'Avaliação': [], 'Preço': []}\n",
    "\n",
    "for livro in livros:\n",
    "    titulo = livro.h3.a['title']\n",
    "    avaliacao = livro.p['class'][1]\n",
    "    preco = float(livro.find('p', class_='price_color').text.replace('£', ''))\n",
    "    livros_dict['Título'].append(titulo)\n",
    "    livros_dict['Avaliação'].append(avaliacao)\n",
    "    livros_dict['Preço'].append(preco)\n"
   ]
  },
  {
   "cell_type": "code",
   "execution_count": 76,
   "id": "14360da4",
   "metadata": {
    "collapsed": true
   },
   "outputs": [
    {
     "data": {
      "text/plain": [
       "{'Título': ['A Light in the Attic',\n",
       "  'Tipping the Velvet',\n",
       "  'Soumission',\n",
       "  'Sharp Objects',\n",
       "  'Sapiens: A Brief History of Humankind',\n",
       "  'The Requiem Red',\n",
       "  'The Dirty Little Secrets of Getting Your Dream Job',\n",
       "  'The Coming Woman: A Novel Based on the Life of the Infamous Feminist, Victoria Woodhull',\n",
       "  'The Boys in the Boat: Nine Americans and Their Epic Quest for Gold at the 1936 Berlin Olympics',\n",
       "  'The Black Maria',\n",
       "  'Starving Hearts (Triangular Trade Trilogy, #1)',\n",
       "  \"Shakespeare's Sonnets\",\n",
       "  'Set Me Free',\n",
       "  \"Scott Pilgrim's Precious Little Life (Scott Pilgrim #1)\",\n",
       "  'Rip it Up and Start Again',\n",
       "  'Our Band Could Be Your Life: Scenes from the American Indie Underground, 1981-1991',\n",
       "  'Olio',\n",
       "  'Mesaerion: The Best Science Fiction Stories 1800-1849',\n",
       "  'Libertarianism for Beginners',\n",
       "  \"It's Only the Himalayas\"],\n",
       " 'Avaliação': ['Three',\n",
       "  'One',\n",
       "  'One',\n",
       "  'Four',\n",
       "  'Five',\n",
       "  'One',\n",
       "  'Four',\n",
       "  'Three',\n",
       "  'Four',\n",
       "  'One',\n",
       "  'Two',\n",
       "  'Four',\n",
       "  'Five',\n",
       "  'Five',\n",
       "  'Five',\n",
       "  'Three',\n",
       "  'One',\n",
       "  'One',\n",
       "  'Two',\n",
       "  'Two'],\n",
       " 'Preço': [51.77,\n",
       "  53.74,\n",
       "  50.1,\n",
       "  47.82,\n",
       "  54.23,\n",
       "  22.65,\n",
       "  33.34,\n",
       "  17.93,\n",
       "  22.6,\n",
       "  52.15,\n",
       "  13.99,\n",
       "  20.66,\n",
       "  17.46,\n",
       "  52.29,\n",
       "  35.02,\n",
       "  57.25,\n",
       "  23.88,\n",
       "  37.59,\n",
       "  51.33,\n",
       "  45.17]}"
      ]
     },
     "execution_count": 76,
     "metadata": {},
     "output_type": "execute_result"
    }
   ],
   "source": [
    "livros_dict"
   ]
  },
  {
   "cell_type": "code",
   "execution_count": 77,
   "id": "f62e597d",
   "metadata": {},
   "outputs": [
    {
     "data": {
      "text/plain": [
       "['Three',\n",
       " 'One',\n",
       " 'One',\n",
       " 'Four',\n",
       " 'Five',\n",
       " 'One',\n",
       " 'Four',\n",
       " 'Three',\n",
       " 'Four',\n",
       " 'One',\n",
       " 'Two',\n",
       " 'Four',\n",
       " 'Five',\n",
       " 'Five',\n",
       " 'Five',\n",
       " 'Three',\n",
       " 'One',\n",
       " 'One',\n",
       " 'Two',\n",
       " 'Two']"
      ]
     },
     "execution_count": 77,
     "metadata": {},
     "output_type": "execute_result"
    }
   ],
   "source": [
    "livros_dict['Avaliação']"
   ]
  },
  {
   "cell_type": "markdown",
   "id": "2fa5eaf7",
   "metadata": {},
   "source": [
    "## Data Science"
   ]
  },
  {
   "cell_type": "markdown",
   "id": "898e2a3d",
   "metadata": {},
   "source": [
    "### Preço médio por avaliação"
   ]
  },
  {
   "cell_type": "code",
   "execution_count": 78,
   "id": "f7f15381",
   "metadata": {},
   "outputs": [],
   "source": [
    "df = pd.DataFrame(livros_dict)"
   ]
  },
  {
   "cell_type": "code",
   "execution_count": 79,
   "id": "bb95ec15",
   "metadata": {},
   "outputs": [
    {
     "data": {
      "text/html": [
       "<div>\n",
       "<style scoped>\n",
       "    .dataframe tbody tr th:only-of-type {\n",
       "        vertical-align: middle;\n",
       "    }\n",
       "\n",
       "    .dataframe tbody tr th {\n",
       "        vertical-align: top;\n",
       "    }\n",
       "\n",
       "    .dataframe thead th {\n",
       "        text-align: right;\n",
       "    }\n",
       "</style>\n",
       "<table border=\"1\" class=\"dataframe\">\n",
       "  <thead>\n",
       "    <tr style=\"text-align: right;\">\n",
       "      <th></th>\n",
       "      <th>Título</th>\n",
       "      <th>Avaliação</th>\n",
       "      <th>Preço</th>\n",
       "    </tr>\n",
       "  </thead>\n",
       "  <tbody>\n",
       "    <tr>\n",
       "      <th>0</th>\n",
       "      <td>A Light in the Attic</td>\n",
       "      <td>Three</td>\n",
       "      <td>51.77</td>\n",
       "    </tr>\n",
       "    <tr>\n",
       "      <th>1</th>\n",
       "      <td>Tipping the Velvet</td>\n",
       "      <td>One</td>\n",
       "      <td>53.74</td>\n",
       "    </tr>\n",
       "    <tr>\n",
       "      <th>2</th>\n",
       "      <td>Soumission</td>\n",
       "      <td>One</td>\n",
       "      <td>50.10</td>\n",
       "    </tr>\n",
       "    <tr>\n",
       "      <th>3</th>\n",
       "      <td>Sharp Objects</td>\n",
       "      <td>Four</td>\n",
       "      <td>47.82</td>\n",
       "    </tr>\n",
       "    <tr>\n",
       "      <th>4</th>\n",
       "      <td>Sapiens: A Brief History of Humankind</td>\n",
       "      <td>Five</td>\n",
       "      <td>54.23</td>\n",
       "    </tr>\n",
       "    <tr>\n",
       "      <th>5</th>\n",
       "      <td>The Requiem Red</td>\n",
       "      <td>One</td>\n",
       "      <td>22.65</td>\n",
       "    </tr>\n",
       "    <tr>\n",
       "      <th>6</th>\n",
       "      <td>The Dirty Little Secrets of Getting Your Dream...</td>\n",
       "      <td>Four</td>\n",
       "      <td>33.34</td>\n",
       "    </tr>\n",
       "    <tr>\n",
       "      <th>7</th>\n",
       "      <td>The Coming Woman: A Novel Based on the Life of...</td>\n",
       "      <td>Three</td>\n",
       "      <td>17.93</td>\n",
       "    </tr>\n",
       "    <tr>\n",
       "      <th>8</th>\n",
       "      <td>The Boys in the Boat: Nine Americans and Their...</td>\n",
       "      <td>Four</td>\n",
       "      <td>22.60</td>\n",
       "    </tr>\n",
       "    <tr>\n",
       "      <th>9</th>\n",
       "      <td>The Black Maria</td>\n",
       "      <td>One</td>\n",
       "      <td>52.15</td>\n",
       "    </tr>\n",
       "    <tr>\n",
       "      <th>10</th>\n",
       "      <td>Starving Hearts (Triangular Trade Trilogy, #1)</td>\n",
       "      <td>Two</td>\n",
       "      <td>13.99</td>\n",
       "    </tr>\n",
       "    <tr>\n",
       "      <th>11</th>\n",
       "      <td>Shakespeare's Sonnets</td>\n",
       "      <td>Four</td>\n",
       "      <td>20.66</td>\n",
       "    </tr>\n",
       "    <tr>\n",
       "      <th>12</th>\n",
       "      <td>Set Me Free</td>\n",
       "      <td>Five</td>\n",
       "      <td>17.46</td>\n",
       "    </tr>\n",
       "    <tr>\n",
       "      <th>13</th>\n",
       "      <td>Scott Pilgrim's Precious Little Life (Scott Pi...</td>\n",
       "      <td>Five</td>\n",
       "      <td>52.29</td>\n",
       "    </tr>\n",
       "    <tr>\n",
       "      <th>14</th>\n",
       "      <td>Rip it Up and Start Again</td>\n",
       "      <td>Five</td>\n",
       "      <td>35.02</td>\n",
       "    </tr>\n",
       "    <tr>\n",
       "      <th>15</th>\n",
       "      <td>Our Band Could Be Your Life: Scenes from the A...</td>\n",
       "      <td>Three</td>\n",
       "      <td>57.25</td>\n",
       "    </tr>\n",
       "    <tr>\n",
       "      <th>16</th>\n",
       "      <td>Olio</td>\n",
       "      <td>One</td>\n",
       "      <td>23.88</td>\n",
       "    </tr>\n",
       "    <tr>\n",
       "      <th>17</th>\n",
       "      <td>Mesaerion: The Best Science Fiction Stories 18...</td>\n",
       "      <td>One</td>\n",
       "      <td>37.59</td>\n",
       "    </tr>\n",
       "    <tr>\n",
       "      <th>18</th>\n",
       "      <td>Libertarianism for Beginners</td>\n",
       "      <td>Two</td>\n",
       "      <td>51.33</td>\n",
       "    </tr>\n",
       "    <tr>\n",
       "      <th>19</th>\n",
       "      <td>It's Only the Himalayas</td>\n",
       "      <td>Two</td>\n",
       "      <td>45.17</td>\n",
       "    </tr>\n",
       "  </tbody>\n",
       "</table>\n",
       "</div>"
      ],
      "text/plain": [
       "                                               Título Avaliação  Preço\n",
       "0                                A Light in the Attic     Three  51.77\n",
       "1                                  Tipping the Velvet       One  53.74\n",
       "2                                          Soumission       One  50.10\n",
       "3                                       Sharp Objects      Four  47.82\n",
       "4               Sapiens: A Brief History of Humankind      Five  54.23\n",
       "5                                     The Requiem Red       One  22.65\n",
       "6   The Dirty Little Secrets of Getting Your Dream...      Four  33.34\n",
       "7   The Coming Woman: A Novel Based on the Life of...     Three  17.93\n",
       "8   The Boys in the Boat: Nine Americans and Their...      Four  22.60\n",
       "9                                     The Black Maria       One  52.15\n",
       "10     Starving Hearts (Triangular Trade Trilogy, #1)       Two  13.99\n",
       "11                              Shakespeare's Sonnets      Four  20.66\n",
       "12                                        Set Me Free      Five  17.46\n",
       "13  Scott Pilgrim's Precious Little Life (Scott Pi...      Five  52.29\n",
       "14                          Rip it Up and Start Again      Five  35.02\n",
       "15  Our Band Could Be Your Life: Scenes from the A...     Three  57.25\n",
       "16                                               Olio       One  23.88\n",
       "17  Mesaerion: The Best Science Fiction Stories 18...       One  37.59\n",
       "18                       Libertarianism for Beginners       Two  51.33\n",
       "19                            It's Only the Himalayas       Two  45.17"
      ]
     },
     "execution_count": 79,
     "metadata": {},
     "output_type": "execute_result"
    }
   ],
   "source": [
    "df"
   ]
  },
  {
   "cell_type": "code",
   "execution_count": 80,
   "id": "e22416d2",
   "metadata": {},
   "outputs": [
    {
     "data": {
      "text/html": [
       "<div>\n",
       "<style scoped>\n",
       "    .dataframe tbody tr th:only-of-type {\n",
       "        vertical-align: middle;\n",
       "    }\n",
       "\n",
       "    .dataframe tbody tr th {\n",
       "        vertical-align: top;\n",
       "    }\n",
       "\n",
       "    .dataframe thead th {\n",
       "        text-align: right;\n",
       "    }\n",
       "</style>\n",
       "<table border=\"1\" class=\"dataframe\">\n",
       "  <thead>\n",
       "    <tr style=\"text-align: right;\">\n",
       "      <th></th>\n",
       "      <th>Preço</th>\n",
       "    </tr>\n",
       "    <tr>\n",
       "      <th>Avaliação</th>\n",
       "      <th></th>\n",
       "    </tr>\n",
       "  </thead>\n",
       "  <tbody>\n",
       "    <tr>\n",
       "      <th>Five</th>\n",
       "      <td>39.750000</td>\n",
       "    </tr>\n",
       "    <tr>\n",
       "      <th>Four</th>\n",
       "      <td>31.105000</td>\n",
       "    </tr>\n",
       "    <tr>\n",
       "      <th>One</th>\n",
       "      <td>40.018333</td>\n",
       "    </tr>\n",
       "    <tr>\n",
       "      <th>Three</th>\n",
       "      <td>42.316667</td>\n",
       "    </tr>\n",
       "    <tr>\n",
       "      <th>Two</th>\n",
       "      <td>36.830000</td>\n",
       "    </tr>\n",
       "  </tbody>\n",
       "</table>\n",
       "</div>"
      ],
      "text/plain": [
       "               Preço\n",
       "Avaliação           \n",
       "Five       39.750000\n",
       "Four       31.105000\n",
       "One        40.018333\n",
       "Three      42.316667\n",
       "Two        36.830000"
      ]
     },
     "execution_count": 80,
     "metadata": {},
     "output_type": "execute_result"
    }
   ],
   "source": [
    "df.groupby('Avaliação').mean()"
   ]
  },
  {
   "cell_type": "code",
   "execution_count": 81,
   "id": "e1a15e4a",
   "metadata": {},
   "outputs": [
    {
     "data": {
      "text/plain": [
       "<AxesSubplot:xlabel='Avaliação'>"
      ]
     },
     "execution_count": 81,
     "metadata": {},
     "output_type": "execute_result"
    },
    {
     "data": {
      "image/png": "[encoded data removed]",
      "text/plain": [
       "<Figure size 432x288 with 1 Axes>"
      ]
     },
     "metadata": {
      "needs_background": "light"
     },
     "output_type": "display_data"
    }
   ],
   "source": [
    "df.groupby('Avaliação').mean().plot(kind='bar')"
   ]
  },
  {
   "cell_type": "markdown",
   "id": "9cd6504e",
   "metadata": {},
   "source": [
    "### Intervalos de preço"
   ]
  },
  {
   "cell_type": "code",
   "execution_count": 82,
   "id": "0c15664f",
   "metadata": {},
   "outputs": [],
   "source": [
    "df['Intervalo Preço'] = pd.cut(df['Preço'], bins=[0, 10, 20, 30, 40, 50, 60])"
   ]
  },
  {
   "cell_type": "code",
   "execution_count": 83,
   "id": "28b4a4c3",
   "metadata": {},
   "outputs": [
    {
     "data": {
      "text/html": [
       "<div>\n",
       "<style scoped>\n",
       "    .dataframe tbody tr th:only-of-type {\n",
       "        vertical-align: middle;\n",
       "    }\n",
       "\n",
       "    .dataframe tbody tr th {\n",
       "        vertical-align: top;\n",
       "    }\n",
       "\n",
       "    .dataframe thead th {\n",
       "        text-align: right;\n",
       "    }\n",
       "</style>\n",
       "<table border=\"1\" class=\"dataframe\">\n",
       "  <thead>\n",
       "    <tr style=\"text-align: right;\">\n",
       "      <th></th>\n",
       "      <th>Título</th>\n",
       "      <th>Avaliação</th>\n",
       "      <th>Preço</th>\n",
       "      <th>Intervalo Preço</th>\n",
       "    </tr>\n",
       "  </thead>\n",
       "  <tbody>\n",
       "    <tr>\n",
       "      <th>0</th>\n",
       "      <td>A Light in the Attic</td>\n",
       "      <td>Three</td>\n",
       "      <td>51.77</td>\n",
       "      <td>(50, 60]</td>\n",
       "    </tr>\n",
       "    <tr>\n",
       "      <th>1</th>\n",
       "      <td>Tipping the Velvet</td>\n",
       "      <td>One</td>\n",
       "      <td>53.74</td>\n",
       "      <td>(50, 60]</td>\n",
       "    </tr>\n",
       "    <tr>\n",
       "      <th>2</th>\n",
       "      <td>Soumission</td>\n",
       "      <td>One</td>\n",
       "      <td>50.10</td>\n",
       "      <td>(50, 60]</td>\n",
       "    </tr>\n",
       "    <tr>\n",
       "      <th>3</th>\n",
       "      <td>Sharp Objects</td>\n",
       "      <td>Four</td>\n",
       "      <td>47.82</td>\n",
       "      <td>(40, 50]</td>\n",
       "    </tr>\n",
       "    <tr>\n",
       "      <th>4</th>\n",
       "      <td>Sapiens: A Brief History of Humankind</td>\n",
       "      <td>Five</td>\n",
       "      <td>54.23</td>\n",
       "      <td>(50, 60]</td>\n",
       "    </tr>\n",
       "    <tr>\n",
       "      <th>5</th>\n",
       "      <td>The Requiem Red</td>\n",
       "      <td>One</td>\n",
       "      <td>22.65</td>\n",
       "      <td>(20, 30]</td>\n",
       "    </tr>\n",
       "    <tr>\n",
       "      <th>6</th>\n",
       "      <td>The Dirty Little Secrets of Getting Your Dream...</td>\n",
       "      <td>Four</td>\n",
       "      <td>33.34</td>\n",
       "      <td>(30, 40]</td>\n",
       "    </tr>\n",
       "    <tr>\n",
       "      <th>7</th>\n",
       "      <td>The Coming Woman: A Novel Based on the Life of...</td>\n",
       "      <td>Three</td>\n",
       "      <td>17.93</td>\n",
       "      <td>(10, 20]</td>\n",
       "    </tr>\n",
       "    <tr>\n",
       "      <th>8</th>\n",
       "      <td>The Boys in the Boat: Nine Americans and Their...</td>\n",
       "      <td>Four</td>\n",
       "      <td>22.60</td>\n",
       "      <td>(20, 30]</td>\n",
       "    </tr>\n",
       "    <tr>\n",
       "      <th>9</th>\n",
       "      <td>The Black Maria</td>\n",
       "      <td>One</td>\n",
       "      <td>52.15</td>\n",
       "      <td>(50, 60]</td>\n",
       "    </tr>\n",
       "    <tr>\n",
       "      <th>10</th>\n",
       "      <td>Starving Hearts (Triangular Trade Trilogy, #1)</td>\n",
       "      <td>Two</td>\n",
       "      <td>13.99</td>\n",
       "      <td>(10, 20]</td>\n",
       "    </tr>\n",
       "    <tr>\n",
       "      <th>11</th>\n",
       "      <td>Shakespeare's Sonnets</td>\n",
       "      <td>Four</td>\n",
       "      <td>20.66</td>\n",
       "      <td>(20, 30]</td>\n",
       "    </tr>\n",
       "    <tr>\n",
       "      <th>12</th>\n",
       "      <td>Set Me Free</td>\n",
       "      <td>Five</td>\n",
       "      <td>17.46</td>\n",
       "      <td>(10, 20]</td>\n",
       "    </tr>\n",
       "    <tr>\n",
       "      <th>13</th>\n",
       "      <td>Scott Pilgrim's Precious Little Life (Scott Pi...</td>\n",
       "      <td>Five</td>\n",
       "      <td>52.29</td>\n",
       "      <td>(50, 60]</td>\n",
       "    </tr>\n",
       "    <tr>\n",
       "      <th>14</th>\n",
       "      <td>Rip it Up and Start Again</td>\n",
       "      <td>Five</td>\n",
       "      <td>35.02</td>\n",
       "      <td>(30, 40]</td>\n",
       "    </tr>\n",
       "    <tr>\n",
       "      <th>15</th>\n",
       "      <td>Our Band Could Be Your Life: Scenes from the A...</td>\n",
       "      <td>Three</td>\n",
       "      <td>57.25</td>\n",
       "      <td>(50, 60]</td>\n",
       "    </tr>\n",
       "    <tr>\n",
       "      <th>16</th>\n",
       "      <td>Olio</td>\n",
       "      <td>One</td>\n",
       "      <td>23.88</td>\n",
       "      <td>(20, 30]</td>\n",
       "    </tr>\n",
       "    <tr>\n",
       "      <th>17</th>\n",
       "      <td>Mesaerion: The Best Science Fiction Stories 18...</td>\n",
       "      <td>One</td>\n",
       "      <td>37.59</td>\n",
       "      <td>(30, 40]</td>\n",
       "    </tr>\n",
       "    <tr>\n",
       "      <th>18</th>\n",
       "      <td>Libertarianism for Beginners</td>\n",
       "      <td>Two</td>\n",
       "      <td>51.33</td>\n",
       "      <td>(50, 60]</td>\n",
       "    </tr>\n",
       "    <tr>\n",
       "      <th>19</th>\n",
       "      <td>It's Only the Himalayas</td>\n",
       "      <td>Two</td>\n",
       "      <td>45.17</td>\n",
       "      <td>(40, 50]</td>\n",
       "    </tr>\n",
       "  </tbody>\n",
       "</table>\n",
       "</div>"
      ],
      "text/plain": [
       "                                               Título Avaliação  Preço  \\\n",
       "0                                A Light in the Attic     Three  51.77   \n",
       "1                                  Tipping the Velvet       One  53.74   \n",
       "2                                          Soumission       One  50.10   \n",
       "3                                       Sharp Objects      Four  47.82   \n",
       "4               Sapiens: A Brief History of Humankind      Five  54.23   \n",
       "5                                     The Requiem Red       One  22.65   \n",
       "6   The Dirty Little Secrets of Getting Your Dream...      Four  33.34   \n",
       "7   The Coming Woman: A Novel Based on the Life of...     Three  17.93   \n",
       "8   The Boys in the Boat: Nine Americans and Their...      Four  22.60   \n",
       "9                                     The Black Maria       One  52.15   \n",
       "10     Starving Hearts (Triangular Trade Trilogy, #1)       Two  13.99   \n",
       "11                              Shakespeare's Sonnets      Four  20.66   \n",
       "12                                        Set Me Free      Five  17.46   \n",
       "13  Scott Pilgrim's Precious Little Life (Scott Pi...      Five  52.29   \n",
       "14                          Rip it Up and Start Again      Five  35.02   \n",
       "15  Our Band Could Be Your Life: Scenes from the A...     Three  57.25   \n",
       "16                                               Olio       One  23.88   \n",
       "17  Mesaerion: The Best Science Fiction Stories 18...       One  37.59   \n",
       "18                       Libertarianism for Beginners       Two  51.33   \n",
       "19                            It's Only the Himalayas       Two  45.17   \n",
       "\n",
       "   Intervalo Preço  \n",
       "0         (50, 60]  \n",
       "1         (50, 60]  \n",
       "2         (50, 60]  \n",
       "3         (40, 50]  \n",
       "4         (50, 60]  \n",
       "5         (20, 30]  \n",
       "6         (30, 40]  \n",
       "7         (10, 20]  \n",
       "8         (20, 30]  \n",
       "9         (50, 60]  \n",
       "10        (10, 20]  \n",
       "11        (20, 30]  \n",
       "12        (10, 20]  \n",
       "13        (50, 60]  \n",
       "14        (30, 40]  \n",
       "15        (50, 60]  \n",
       "16        (20, 30]  \n",
       "17        (30, 40]  \n",
       "18        (50, 60]  \n",
       "19        (40, 50]  "
      ]
     },
     "execution_count": 83,
     "metadata": {},
     "output_type": "execute_result"
    }
   ],
   "source": [
    "df"
   ]
  },
  {
   "cell_type": "code",
   "execution_count": 84,
   "id": "8fe627bc",
   "metadata": {},
   "outputs": [
    {
     "data": {
      "text/plain": [
       "<AxesSubplot:xlabel='Intervalo Preço'>"
      ]
     },
     "execution_count": 84,
     "metadata": {},
     "output_type": "execute_result"
    },
    {
     "data": {
      "image/png": "[encoded data removed]",
      "text/plain": [
       "<Figure size 432x288 with 1 Axes>"
      ]
     },
     "metadata": {
      "needs_background": "light"
     },
     "output_type": "display_data"
    }
   ],
   "source": [
    "df[['Intervalo Preço', 'Título']].groupby('Intervalo Preço').count().plot(kind='bar')"
   ]
  }
 ],
 "metadata": {
  "kernelspec": {
   "display_name": "Python 3 (ipykernel)",
   "language": "python",
   "name": "python3"
  },
  "language_info": {
   "codemirror_mode": {
    "name": "ipython",
    "version": 3
   },
   "file_extension": ".py",
   "mimetype": "text/x-python",
   "name": "python",
   "nbconvert_exporter": "python",
   "pygments_lexer": "ipython3",
   "version": "3.8.12"
  },
  "toc": {
   "base_numbering": 1,
   "nav_menu": {},
   "number_sections": true,
   "sideBar": true,
   "skip_h1_title": false,
   "title_cell": "Table of Contents",
   "title_sidebar": "Contents",
   "toc_cell": false,
   "toc_position": {},
   "toc_section_display": true,
   "toc_window_display": false
  }
 },
 "nbformat": 4,
 "nbformat_minor": 5
}
